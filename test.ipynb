{
 "cells": [
  {
   "cell_type": "markdown",
   "metadata": {
    "deletable": true,
    "editable": true
   },
   "source": [
    "## Load the digits dataset and evolutionary_search"
   ]
  },
  {
   "cell_type": "code",
   "execution_count": 2,
   "metadata": {
    "collapsed": false,
    "deletable": true,
    "editable": true,
    "scrolled": false
   },
   "outputs": [
    {
     "data": {
      "text/plain": [
       "((1797, 64), (1797,))"
      ]
     },
     "execution_count": 2,
     "metadata": {},
     "output_type": "execute_result"
    }
   ],
   "source": [
    "from evolutionary_search import EvolutionaryAlgorithmSearchCV\n",
    "import sklearn.datasets\n",
    "import numpy as np\n",
    "import pandas as pd\n",
    "\n",
    "data = sklearn.datasets.load_digits()\n",
    "X = data[\"data\"]\n",
    "y = data[\"target\"]\n",
    "\n",
    "# make it a 2-class problem by only classifying the digit \"5\" vs the rest\n",
    "y = np.array([1 if yy == 5 else 0 for yy in y])\n",
    "\n",
    "X.shape, y.shape"
   ]
  },
  {
   "cell_type": "code",
   "execution_count": 3,
   "metadata": {
    "collapsed": true,
    "deletable": true,
    "editable": true
   },
   "outputs": [],
   "source": [
    "from sklearn.model_selection import StratifiedKFold, GridSearchCV, RandomizedSearchCV\n",
    "from sklearn.svm import SVC"
   ]
  },
  {
   "cell_type": "markdown",
   "metadata": {
    "deletable": true,
    "editable": true
   },
   "source": [
    "## Train an SVM with RBF kernel"
   ]
  },
  {
   "cell_type": "markdown",
   "metadata": {
    "deletable": true,
    "editable": true
   },
   "source": [
    "### Using conventional GridSearchCV"
   ]
  },
  {
   "cell_type": "markdown",
   "metadata": {
    "deletable": true,
    "editable": true
   },
   "source": [
    "Parameter grid: 625 parameter combinations"
   ]
  },
  {
   "cell_type": "code",
   "execution_count": 5,
   "metadata": {
    "collapsed": false,
    "deletable": true,
    "editable": true
   },
   "outputs": [
    {
     "name": "stdout",
     "output_type": "stream",
     "text": [
      "Size:  625\n"
     ]
    }
   ],
   "source": [
    "paramgrid = {\"kernel\": [\"rbf\"],\n",
    "             \"C\"     : np.logspace(-9, 9, num=25, base=10),\n",
    "             \"gamma\" : np.logspace(-9, 9, num=25, base=10)}\n",
    "print(\"Size: \", len(paramgrid[\"kernel\"])*len(paramgrid[\"C\"])*len(paramgrid[\"gamma\"]))"
   ]
  },
  {
   "cell_type": "code",
   "execution_count": 4,
   "metadata": {
    "collapsed": false,
    "deletable": true,
    "editable": true
   },
   "outputs": [
    {
     "name": "stdout",
     "output_type": "stream",
     "text": [
      "Fitting 2 folds for each of 625 candidates, totalling 1250 fits\n",
      "Wall time: 3min 57s\n"
     ]
    },
    {
     "name": "stderr",
     "output_type": "stream",
     "text": [
      "[Parallel(n_jobs=1)]: Done 1250 out of 1250 | elapsed:  4.0min finished\n"
     ]
    },
    {
     "data": {
      "text/plain": [
       "GridSearchCV(cv=StratifiedKFold(n_splits=2, random_state=None, shuffle=False),\n",
       "       error_score='raise',\n",
       "       estimator=SVC(C=1.0, cache_size=200, class_weight=None, coef0=0.0,\n",
       "  decision_function_shape=None, degree=3, gamma='auto', kernel='rbf',\n",
       "  max_iter=-1, probability=False, random_state=None, shrinking=True,\n",
       "  tol=0.001, verbose=False),\n",
       "       fit_params={}, iid=True, n_jobs=1,\n",
       "       param_grid={'gamma': array([  1.00000e-09,   5.62341e-09,   3.16228e-08,   1.77828e-07,\n",
       "         1.00000e-06,   5.62341e-06,   3.16228e-05,   1.77828e-04,\n",
       "         1.00000e-03,   5.62341e-03,   3.16228e-02,   1.77828e-01,\n",
       "         1.00000e+00,   5.62341e+00,   3.16228e+01,   1.77828e+02,\n",
       "         1....7828e+05,\n",
       "         1.00000e+06,   5.62341e+06,   3.16228e+07,   1.77828e+08,\n",
       "         1.00000e+09])},\n",
       "       pre_dispatch='2*n_jobs', refit=True, return_train_score=True,\n",
       "       scoring='accuracy', verbose=1)"
      ]
     },
     "execution_count": 4,
     "metadata": {},
     "output_type": "execute_result"
    }
   ],
   "source": [
    "cv = GridSearchCV(estimator=SVC(),\n",
    "                  param_grid=paramgrid,\n",
    "                  scoring=\"accuracy\",\n",
    "                  cv=StratifiedKFold(n_splits=2),\n",
    "                  verbose=1)\n",
    "%time cv.fit(X, y)"
   ]
  },
  {
   "cell_type": "markdown",
   "metadata": {
    "deletable": true,
    "editable": true
   },
   "source": [
    "### Best score + params"
   ]
  },
  {
   "cell_type": "code",
   "execution_count": 10,
   "metadata": {
    "collapsed": false,
    "deletable": true,
    "editable": true
   },
   "outputs": [
    {
     "data": {
      "text/plain": [
       "(0.98942682248191427, {'C': 1.0, 'gamma': 0.001, 'kernel': 'rbf'})"
      ]
     },
     "execution_count": 10,
     "metadata": {},
     "output_type": "execute_result"
    }
   ],
   "source": [
    "cv.best_score_, cv.best_params_"
   ]
  },
  {
   "cell_type": "markdown",
   "metadata": {
    "deletable": true,
    "editable": true
   },
   "source": [
    "An example of the \"cannonical\" cv_results_ table in sklearn:"
   ]
  },
  {
   "cell_type": "code",
   "execution_count": 34,
   "metadata": {
    "collapsed": false,
    "deletable": true,
    "editable": true
   },
   "outputs": [
    {
     "data": {
      "text/html": [
       "<div>\n",
       "<table border=\"1\" class=\"dataframe\">\n",
       "  <thead>\n",
       "    <tr style=\"text-align: right;\">\n",
       "      <th></th>\n",
       "      <th>index</th>\n",
       "      <th>max_test_score</th>\n",
       "      <th>mean_test_score</th>\n",
       "      <th>min_test_score</th>\n",
       "      <th>nan_test_score?</th>\n",
       "      <th>param_index</th>\n",
       "      <th>params</th>\n",
       "      <th>std_test_score</th>\n",
       "    </tr>\n",
       "  </thead>\n",
       "  <tbody>\n",
       "    <tr>\n",
       "      <th>0</th>\n",
       "      <td>1</td>\n",
       "      <td>0.994435</td>\n",
       "      <td>0.994435</td>\n",
       "      <td>0.994435</td>\n",
       "      <td>False</td>\n",
       "      <td>0</td>\n",
       "      <td>{'C': 177827941.004, 'kernel': 'rbf', 'gamma':...</td>\n",
       "      <td>0.0</td>\n",
       "    </tr>\n",
       "    <tr>\n",
       "      <th>254</th>\n",
       "      <td>255</td>\n",
       "      <td>0.994435</td>\n",
       "      <td>0.994435</td>\n",
       "      <td>0.994435</td>\n",
       "      <td>False</td>\n",
       "      <td>0</td>\n",
       "      <td>{'C': 177827.941004, 'kernel': 'rbf', 'gamma':...</td>\n",
       "      <td>0.0</td>\n",
       "    </tr>\n",
       "    <tr>\n",
       "      <th>263</th>\n",
       "      <td>264</td>\n",
       "      <td>0.994435</td>\n",
       "      <td>0.994435</td>\n",
       "      <td>0.994435</td>\n",
       "      <td>False</td>\n",
       "      <td>0</td>\n",
       "      <td>{'C': 177827941.004, 'kernel': 'rbf', 'gamma':...</td>\n",
       "      <td>0.0</td>\n",
       "    </tr>\n",
       "    <tr>\n",
       "      <th>262</th>\n",
       "      <td>263</td>\n",
       "      <td>0.994435</td>\n",
       "      <td>0.994435</td>\n",
       "      <td>0.994435</td>\n",
       "      <td>False</td>\n",
       "      <td>0</td>\n",
       "      <td>{'C': 1000000.0, 'kernel': 'rbf', 'gamma': 0.001}</td>\n",
       "      <td>0.0</td>\n",
       "    </tr>\n",
       "    <tr>\n",
       "      <th>261</th>\n",
       "      <td>262</td>\n",
       "      <td>0.994435</td>\n",
       "      <td>0.994435</td>\n",
       "      <td>0.994435</td>\n",
       "      <td>False</td>\n",
       "      <td>0</td>\n",
       "      <td>{'C': 177827941.004, 'kernel': 'rbf', 'gamma':...</td>\n",
       "      <td>0.0</td>\n",
       "    </tr>\n",
       "  </tbody>\n",
       "</table>\n",
       "</div>"
      ],
      "text/plain": [
       "     index  max_test_score  mean_test_score  min_test_score nan_test_score?  \\\n",
       "0        1        0.994435         0.994435        0.994435           False   \n",
       "254    255        0.994435         0.994435        0.994435           False   \n",
       "263    264        0.994435         0.994435        0.994435           False   \n",
       "262    263        0.994435         0.994435        0.994435           False   \n",
       "261    262        0.994435         0.994435        0.994435           False   \n",
       "\n",
       "     param_index                                             params  \\\n",
       "0              0  {'C': 177827941.004, 'kernel': 'rbf', 'gamma':...   \n",
       "254            0  {'C': 177827.941004, 'kernel': 'rbf', 'gamma':...   \n",
       "263            0  {'C': 177827941.004, 'kernel': 'rbf', 'gamma':...   \n",
       "262            0  {'C': 1000000.0, 'kernel': 'rbf', 'gamma': 0.001}   \n",
       "261            0  {'C': 177827941.004, 'kernel': 'rbf', 'gamma':...   \n",
       "\n",
       "     std_test_score  \n",
       "0               0.0  \n",
       "254             0.0  \n",
       "263             0.0  \n",
       "262             0.0  \n",
       "261             0.0  "
      ]
     },
     "execution_count": 34,
     "metadata": {},
     "output_type": "execute_result"
    }
   ],
   "source": [
    "pd.DataFrame(cv.cv_results_).sort_values(\"mean_test_score\", ascending=False).head()"
   ]
  },
  {
   "cell_type": "markdown",
   "metadata": {
    "deletable": true,
    "editable": true
   },
   "source": [
    "### Using RandomizedSearchCV"
   ]
  },
  {
   "cell_type": "markdown",
   "metadata": {
    "deletable": true,
    "editable": true
   },
   "source": [
    "Same parameter space, but only test 250 random combinations."
   ]
  },
  {
   "cell_type": "code",
   "execution_count": 12,
   "metadata": {
    "collapsed": false,
    "deletable": true,
    "editable": true,
    "scrolled": false
   },
   "outputs": [
    {
     "name": "stdout",
     "output_type": "stream",
     "text": [
      "Fitting 2 folds for each of 250 candidates, totalling 500 fits\n",
      "CPU times: user 1min 13s, sys: 93.8 ms, total: 1min 13s\n",
      "Wall time: 1min 15s\n"
     ]
    },
    {
     "name": "stderr",
     "output_type": "stream",
     "text": [
      "[Parallel(n_jobs=1)]: Done 500 out of 500 | elapsed:  1.3min finished\n"
     ]
    },
    {
     "data": {
      "text/plain": [
       "RandomizedSearchCV(cv=StratifiedKFold(n_splits=2, random_state=None, shuffle=False),\n",
       "          error_score='raise',\n",
       "          estimator=SVC(C=1.0, cache_size=200, class_weight=None, coef0=0.0,\n",
       "  decision_function_shape=None, degree=3, gamma='auto', kernel='rbf',\n",
       "  max_iter=-1, probability=False, random_state=None, shrinking=True,\n",
       "  tol=0.001, verbose=False),\n",
       "          fit_params={}, iid=True, n_iter=250, n_jobs=1,\n",
       "          param_distributions={'C': array([  1.00000e-09,   5.62341e-09,   3.16228e-08,   1.77828e-07,\n",
       "         1.00000e-06,   5.62341e-06,   3.16228e-05,   1.77828e-04,\n",
       "         1.00000e-03,   5.62341e-03,   3.16228e-02,   1.77828e-01,\n",
       "         1.00000e+00,   5.62341e+00,   3.16228e+01,   1.77828e+02,\n",
       "      ...7828e+05,\n",
       "         1.00000e+06,   5.62341e+06,   3.16228e+07,   1.77828e+08,\n",
       "         1.00000e+09])},\n",
       "          pre_dispatch='2*n_jobs', random_state=None, refit=True,\n",
       "          return_train_score=True, scoring='accuracy', verbose=1)"
      ]
     },
     "execution_count": 12,
     "metadata": {},
     "output_type": "execute_result"
    }
   ],
   "source": [
    "cv = RandomizedSearchCV(estimator=SVC(),\n",
    "                        param_distributions=paramgrid,\n",
    "                        n_iter=250,\n",
    "                        scoring=\"accuracy\",\n",
    "                        cv=StratifiedKFold(n_splits=2),\n",
    "                        verbose=1)\n",
    "%time cv.fit(X, y)"
   ]
  },
  {
   "cell_type": "markdown",
   "metadata": {
    "deletable": true,
    "editable": true
   },
   "source": [
    "### Best score + params"
   ]
  },
  {
   "cell_type": "code",
   "execution_count": 13,
   "metadata": {
    "collapsed": false,
    "deletable": true,
    "editable": true
   },
   "outputs": [
    {
     "data": {
      "text/plain": [
       "(0.98942682248191427, {'C': 1.0, 'gamma': 0.001, 'kernel': 'rbf'})"
      ]
     },
     "execution_count": 13,
     "metadata": {},
     "output_type": "execute_result"
    }
   ],
   "source": [
    "cv.best_score_, cv.best_params_"
   ]
  },
  {
   "cell_type": "markdown",
   "metadata": {
    "deletable": true,
    "editable": true
   },
   "source": [
    "An example of the \"cannonical\" cv_results_ table in sklearn:"
   ]
  },
  {
   "cell_type": "code",
   "execution_count": 33,
   "metadata": {
    "collapsed": false,
    "deletable": true,
    "editable": true
   },
   "outputs": [
    {
     "data": {
      "text/html": [
       "<div>\n",
       "<table border=\"1\" class=\"dataframe\">\n",
       "  <thead>\n",
       "    <tr style=\"text-align: right;\">\n",
       "      <th></th>\n",
       "      <th>index</th>\n",
       "      <th>max_test_score</th>\n",
       "      <th>mean_test_score</th>\n",
       "      <th>min_test_score</th>\n",
       "      <th>nan_test_score?</th>\n",
       "      <th>param_index</th>\n",
       "      <th>params</th>\n",
       "      <th>std_test_score</th>\n",
       "    </tr>\n",
       "  </thead>\n",
       "  <tbody>\n",
       "    <tr>\n",
       "      <th>0</th>\n",
       "      <td>1</td>\n",
       "      <td>0.994435</td>\n",
       "      <td>0.994435</td>\n",
       "      <td>0.994435</td>\n",
       "      <td>False</td>\n",
       "      <td>0</td>\n",
       "      <td>{'C': 177827941.004, 'kernel': 'rbf', 'gamma':...</td>\n",
       "      <td>0.0</td>\n",
       "    </tr>\n",
       "    <tr>\n",
       "      <th>254</th>\n",
       "      <td>255</td>\n",
       "      <td>0.994435</td>\n",
       "      <td>0.994435</td>\n",
       "      <td>0.994435</td>\n",
       "      <td>False</td>\n",
       "      <td>0</td>\n",
       "      <td>{'C': 177827.941004, 'kernel': 'rbf', 'gamma':...</td>\n",
       "      <td>0.0</td>\n",
       "    </tr>\n",
       "    <tr>\n",
       "      <th>263</th>\n",
       "      <td>264</td>\n",
       "      <td>0.994435</td>\n",
       "      <td>0.994435</td>\n",
       "      <td>0.994435</td>\n",
       "      <td>False</td>\n",
       "      <td>0</td>\n",
       "      <td>{'C': 177827941.004, 'kernel': 'rbf', 'gamma':...</td>\n",
       "      <td>0.0</td>\n",
       "    </tr>\n",
       "    <tr>\n",
       "      <th>262</th>\n",
       "      <td>263</td>\n",
       "      <td>0.994435</td>\n",
       "      <td>0.994435</td>\n",
       "      <td>0.994435</td>\n",
       "      <td>False</td>\n",
       "      <td>0</td>\n",
       "      <td>{'C': 1000000.0, 'kernel': 'rbf', 'gamma': 0.001}</td>\n",
       "      <td>0.0</td>\n",
       "    </tr>\n",
       "    <tr>\n",
       "      <th>261</th>\n",
       "      <td>262</td>\n",
       "      <td>0.994435</td>\n",
       "      <td>0.994435</td>\n",
       "      <td>0.994435</td>\n",
       "      <td>False</td>\n",
       "      <td>0</td>\n",
       "      <td>{'C': 177827941.004, 'kernel': 'rbf', 'gamma':...</td>\n",
       "      <td>0.0</td>\n",
       "    </tr>\n",
       "  </tbody>\n",
       "</table>\n",
       "</div>"
      ],
      "text/plain": [
       "     index  max_test_score  mean_test_score  min_test_score nan_test_score?  \\\n",
       "0        1        0.994435         0.994435        0.994435           False   \n",
       "254    255        0.994435         0.994435        0.994435           False   \n",
       "263    264        0.994435         0.994435        0.994435           False   \n",
       "262    263        0.994435         0.994435        0.994435           False   \n",
       "261    262        0.994435         0.994435        0.994435           False   \n",
       "\n",
       "     param_index                                             params  \\\n",
       "0              0  {'C': 177827941.004, 'kernel': 'rbf', 'gamma':...   \n",
       "254            0  {'C': 177827.941004, 'kernel': 'rbf', 'gamma':...   \n",
       "263            0  {'C': 177827941.004, 'kernel': 'rbf', 'gamma':...   \n",
       "262            0  {'C': 1000000.0, 'kernel': 'rbf', 'gamma': 0.001}   \n",
       "261            0  {'C': 177827941.004, 'kernel': 'rbf', 'gamma':...   \n",
       "\n",
       "     std_test_score  \n",
       "0               0.0  \n",
       "254             0.0  \n",
       "263             0.0  \n",
       "262             0.0  \n",
       "261             0.0  "
      ]
     },
     "execution_count": 33,
     "metadata": {},
     "output_type": "execute_result"
    }
   ],
   "source": [
    "pd.DataFrame(cv.cv_results_).sort_values(\"mean_test_score\", ascending=False).head()"
   ]
  },
  {
   "cell_type": "markdown",
   "metadata": {
    "deletable": true,
    "editable": true
   },
   "source": [
    "### Using EvolutionaryAlgorithmSearchCV"
   ]
  },
  {
   "cell_type": "markdown",
   "metadata": {
    "deletable": true,
    "editable": true
   },
   "source": [
    "Again same parameter space, optimize for 10 generations.\n",
    "\n",
    "**NOTE:** In this version I've changed generations_number to 1 to demonstrate issue 27. It fails to reproduce."
   ]
  },
  {
   "cell_type": "code",
   "execution_count": 23,
   "metadata": {
    "collapsed": false,
    "deletable": true,
    "editable": true
   },
   "outputs": [
    {
     "name": "stdout",
     "output_type": "stream",
     "text": [
      "Types [2, 1, 2] and maxint [24, 0, 24] detected\n",
      "--- Evolve in 625 possible combinations ---\n",
      "gen\tnevals\tavg     \tmin    \tmax    \tstd      \n",
      "0  \t50    \t0.911163\t0.89872\t0.98887\t0.0296594\n",
      "1  \t39    \t0.934023\t0.89872\t0.98887\t0.0407066\n",
      "Best individual is: {'kernel': 'rbf', 'C': 31622776.601683792, 'gamma': 0.001}\n",
      "with fitness: 0.9888703394546466\n",
      "Wall time: 14.5 s\n"
     ]
    }
   ],
   "source": [
    "cv = EvolutionaryAlgorithmSearchCV(estimator=SVC(),\n",
    "                                   params=paramgrid,\n",
    "                                   scoring=\"accuracy\",\n",
    "                                   cv=StratifiedKFold(n_splits=2),\n",
    "                                   verbose=True,\n",
    "                                   population_size=50,\n",
    "                                   gene_mutation_prob=0.10,\n",
    "                                   tournament_size=3,\n",
    "                                   generations_number=1)\n",
    "%time cv.fit(X, y)"
   ]
  },
  {
   "cell_type": "markdown",
   "metadata": {
    "deletable": true,
    "editable": true
   },
   "source": [
    "### Best score + params"
   ]
  },
  {
   "cell_type": "code",
   "execution_count": 20,
   "metadata": {
    "collapsed": false,
    "deletable": true,
    "editable": true
   },
   "outputs": [
    {
     "data": {
      "text/plain": [
       "(0.98887033945464664,\n",
       " {'C': 5.6234132519034912, 'gamma': 0.001, 'kernel': 'rbf'})"
      ]
     },
     "execution_count": 20,
     "metadata": {},
     "output_type": "execute_result"
    }
   ],
   "source": [
    "cv.best_score_, cv.best_params_"
   ]
  },
  {
   "cell_type": "markdown",
   "metadata": {
    "deletable": true,
    "editable": true
   },
   "source": [
    "Our cv_results_ table (note, includes all individuals with their mean, max, min, and std test score)."
   ]
  },
  {
   "cell_type": "code",
   "execution_count": 24,
   "metadata": {
    "collapsed": false,
    "deletable": true,
    "editable": true
   },
   "outputs": [
    {
     "data": {
      "text/html": [
       "<div>\n",
       "<table border=\"1\" class=\"dataframe\">\n",
       "  <thead>\n",
       "    <tr style=\"text-align: right;\">\n",
       "      <th></th>\n",
       "      <th>index</th>\n",
       "      <th>max_test_score</th>\n",
       "      <th>mean_test_score</th>\n",
       "      <th>min_test_score</th>\n",
       "      <th>nan_test_score?</th>\n",
       "      <th>param_index</th>\n",
       "      <th>params</th>\n",
       "      <th>std_test_score</th>\n",
       "    </tr>\n",
       "  </thead>\n",
       "  <tbody>\n",
       "    <tr>\n",
       "      <th>25</th>\n",
       "      <td>76</td>\n",
       "      <td>0.988870</td>\n",
       "      <td>0.988870</td>\n",
       "      <td>0.988870</td>\n",
       "      <td>False</td>\n",
       "      <td>0</td>\n",
       "      <td>{'kernel': 'rbf', 'C': 1000.0, 'gamma': 0.001}</td>\n",
       "      <td>0.0</td>\n",
       "    </tr>\n",
       "    <tr>\n",
       "      <th>36</th>\n",
       "      <td>91</td>\n",
       "      <td>0.988870</td>\n",
       "      <td>0.988870</td>\n",
       "      <td>0.988870</td>\n",
       "      <td>False</td>\n",
       "      <td>0</td>\n",
       "      <td>{'kernel': 'rbf', 'C': 31622776.6017, 'gamma':...</td>\n",
       "      <td>0.0</td>\n",
       "    </tr>\n",
       "    <tr>\n",
       "      <th>9</th>\n",
       "      <td>60</td>\n",
       "      <td>0.988870</td>\n",
       "      <td>0.988870</td>\n",
       "      <td>0.988870</td>\n",
       "      <td>False</td>\n",
       "      <td>0</td>\n",
       "      <td>{'kernel': 'rbf', 'C': 31.6227766017, 'gamma':...</td>\n",
       "      <td>0.0</td>\n",
       "    </tr>\n",
       "    <tr>\n",
       "      <th>14</th>\n",
       "      <td>65</td>\n",
       "      <td>0.984975</td>\n",
       "      <td>0.984975</td>\n",
       "      <td>0.984975</td>\n",
       "      <td>False</td>\n",
       "      <td>0</td>\n",
       "      <td>{'kernel': 'rbf', 'C': 31622.7766017, 'gamma':...</td>\n",
       "      <td>0.0</td>\n",
       "    </tr>\n",
       "    <tr>\n",
       "      <th>28</th>\n",
       "      <td>80</td>\n",
       "      <td>0.984975</td>\n",
       "      <td>0.984975</td>\n",
       "      <td>0.984975</td>\n",
       "      <td>False</td>\n",
       "      <td>0</td>\n",
       "      <td>{'kernel': 'rbf', 'C': 1000000000.0, 'gamma': ...</td>\n",
       "      <td>0.0</td>\n",
       "    </tr>\n",
       "  </tbody>\n",
       "</table>\n",
       "</div>"
      ],
      "text/plain": [
       "    index  max_test_score  mean_test_score  min_test_score nan_test_score?  \\\n",
       "25     76        0.988870         0.988870        0.988870           False   \n",
       "36     91        0.988870         0.988870        0.988870           False   \n",
       "9      60        0.988870         0.988870        0.988870           False   \n",
       "14     65        0.984975         0.984975        0.984975           False   \n",
       "28     80        0.984975         0.984975        0.984975           False   \n",
       "\n",
       "    param_index                                             params  \\\n",
       "25            0     {'kernel': 'rbf', 'C': 1000.0, 'gamma': 0.001}   \n",
       "36            0  {'kernel': 'rbf', 'C': 31622776.6017, 'gamma':...   \n",
       "9             0  {'kernel': 'rbf', 'C': 31.6227766017, 'gamma':...   \n",
       "14            0  {'kernel': 'rbf', 'C': 31622.7766017, 'gamma':...   \n",
       "28            0  {'kernel': 'rbf', 'C': 1000000000.0, 'gamma': ...   \n",
       "\n",
       "    std_test_score  \n",
       "25             0.0  \n",
       "36             0.0  \n",
       "9              0.0  \n",
       "14             0.0  \n",
       "28             0.0  "
      ]
     },
     "execution_count": 24,
     "metadata": {},
     "output_type": "execute_result"
    }
   ],
   "source": [
    "pd.DataFrame(cv.cv_results_).sort_values(\"mean_test_score\", ascending=False).head()"
   ]
  },
  {
   "cell_type": "code",
   "execution_count": null,
   "metadata": {
    "collapsed": true,
    "deletable": true,
    "editable": true
   },
   "outputs": [],
   "source": []
  }
 ],
 "metadata": {
  "kernelspec": {
   "display_name": "Python 3",
   "language": "python",
   "name": "python3"
  },
  "language_info": {
   "codemirror_mode": {
    "name": "ipython",
    "version": 3
   },
   "file_extension": ".py",
   "mimetype": "text/x-python",
   "name": "python",
   "nbconvert_exporter": "python",
   "pygments_lexer": "ipython3",
   "version": "3.5.2"
  }
 },
 "nbformat": 4,
 "nbformat_minor": 1
}
